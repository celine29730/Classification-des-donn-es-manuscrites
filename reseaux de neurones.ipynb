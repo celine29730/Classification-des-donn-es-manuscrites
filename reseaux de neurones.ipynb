{
 "cells": [
  {
   "cell_type": "code",
   "execution_count": 4,
   "metadata": {},
   "outputs": [],
   "source": [
    "\n",
    "#impoortation des librairies\n",
    "import tensorflow as tf \n",
    "import matplotlib.pyplot as plt \n",
    "import numpy as np\n"
   ]
  },
  {
   "cell_type": "code",
   "execution_count": 2,
   "metadata": {},
   "outputs": [],
   "source": [
    "#définition du fichier de travail et fractionnement des données pour la reconnaissance des chiffres manuscrits\n",
    "mnist = tf.keras.datasets.mnist \n",
    "(x_train, y_train),(x_test, y_test) = mnist.load_data()"
   ]
  },
  {
   "cell_type": "code",
   "execution_count": 3,
   "metadata": {},
   "outputs": [
    {
     "data": {
      "image/png": "[encoded data removed]",
      "text/plain": [
       "<Figure size 432x288 with 1 Axes>"
      ]
     },
     "metadata": {
      "needs_background": "light"
     },
     "output_type": "display_data"
    }
   ],
   "source": [
    "plt.imshow(x_train[0], cmap=\"gray\") # Importation de l'image\n",
    "plt.show() # visualisation de la première image"
   ]
  },
  {
   "cell_type": "markdown",
   "metadata": {},
   "source": [
    "**Avant d'introduire les données dans le réseau de neurones, nous devons le normaliser en mettant à l'échelle la \n",
    "valeur des pixels dans une plage de 0 à 1 au lieu d'être de 0 à 255 et cela rend le réseau de neurones a besoin de \n",
    "moins de puissance de calcul**"
   ]
  },
  {
   "cell_type": "code",
   "execution_count": 4,
   "metadata": {},
   "outputs": [],
   "source": [
    "# Normalisation du jeu de données d'apprentissage\n",
    "x_train = tf.keras.utils.normalize(x_train, axis=1)\n",
    "# Normalisation du jeu de test\n",
    "x_test = tf.keras.utils.normalize(x_test, axis=1)"
   ]
  },
  {
   "cell_type": "markdown",
   "metadata": {},
   "source": [
    "**On va construire le modèle ou le réseau de neurones qui va entraîner et apprendre à classer ces images.\n",
    "On utilise les couches qui vont être utilisées pour la consuction d'un réseau neuronal artificiel, car elles \n",
    "extrairont les caractéristiques des données.**\n",
    "\n",
    "*On comence par créer un objet modèle qui vous permet d'ajouter les différentes couches.\n",
    "Puis,on va aplatir les données qui sont les pixels de l'image dans ce cas. Ainsi, les images ont une dimension \n",
    "de 28 × 28, nous devons la rendre 1 × 784 dimensionnelle pour que la couche d'entrée du réseau neuronal puisse \n",
    "la lire ou la gérer. \n",
    "Enfin, on définit l'entrée et une couche cachée avec 128 neurones et une fonction d'activation qui est la fonction\n",
    "relu.**\n",
    "\n",
    "**On crée la couche de sortie avec 10 neurones et une fonction d'activation softmax qui transformera le score renvoyé\n",
    "par le modèle en une valeur afin qu'il soit interprété par les humains.**"
   ]
  },
  {
   "cell_type": "code",
   "execution_count": 5,
   "metadata": {},
   "outputs": [],
   "source": [
    "#Construction du modèle\n",
    "model = tf.keras.models.Sequential()\n",
    "# on applatit les données\n",
    "model.add(tf.keras.layers.Flatten())\n",
    "# Définition de l'entrée et de la couche cachée\n",
    "model.add(tf.keras.layers.Dense(128, activation=tf.nn.relu))\n",
    "model.add(tf.keras.layers.Dense(128, activation=tf.nn.relu))\n",
    "# Construction de la couche de sortie\n",
    "model.add(tf.keras.layers.Dense(10, activation=tf.nn.softmax))"
   ]
  },
  {
   "cell_type": "markdown",
   "metadata": {},
   "source": [
    "Après avoir construit le réseau neuronal, on doit compiler le modèle en ajoutant quelques paramètres qui \n",
    "indiqueront au réseau neuronal comment démarrer le processus d'entraînement.\n",
    "Tout d'abord, on ajoute l'optimiseur qui créera ou, en d'autres termes, mettra à jour le paramètre du réseau \n",
    "neuronal pour l'adapter à nos données.\n",
    "\n",
    "Puis on indique la fonction de perte qui vous indiquera les performances de votre modèle.\n",
    "\n",
    "Enfin, les métriques qui donnent des tests indicatifs de la qualité du modèle.\n",
    "\n"
   ]
  },
  {
   "cell_type": "code",
   "execution_count": 6,
   "metadata": {},
   "outputs": [],
   "source": [
    "# Compilation du modele\n",
    "model.compile(optimizer=\"adam\", loss=\"sparse_categorical_crossentropy\", metrics=[\"accuracy\"])"
   ]
  },
  {
   "cell_type": "markdown",
   "metadata": {},
   "source": [
    "On va entraîner notre modèle, on utilise la fonction fit avec les données d'apprentissage et combien d'époques \n",
    "doivent être exécutées ou (commbien de fois on parcours le jeu de données), combien de fois doivent faire une \n",
    "estimation."
   ]
  },
  {
   "cell_type": "code",
   "execution_count": 7,
   "metadata": {},
   "outputs": [
    {
     "name": "stdout",
     "output_type": "stream",
     "text": [
      "Epoch 1/5\n",
      "7500/7500 [==============================] - 69s 9ms/step - loss: 0.3641 - accuracy: 0.8900\n",
      "Epoch 2/5\n",
      "7500/7500 [==============================] - 70s 9ms/step - loss: 0.0971 - accuracy: 0.9704\n",
      "Epoch 3/5\n",
      "7500/7500 [==============================] - 60s 8ms/step - loss: 0.0644 - accuracy: 0.9799\n",
      "Epoch 4/5\n",
      "7500/7500 [==============================] - 78s 10ms/step - loss: 0.0460 - accuracy: 0.98640s - loss: 0.0460 - accuracy\n",
      "Epoch 5/5\n",
      "7500/7500 [==============================] - 65s 9ms/step - loss: 0.0351 - accuracy: 0.9890\n"
     ]
    }
   ],
   "source": [
    "hist = model.fit(x=x_train, y=y_train, epochs=5, batch_size=8) "
   ]
  },
  {
   "cell_type": "code",
   "execution_count": 8,
   "metadata": {},
   "outputs": [],
   "source": [
    "model.save('mnist.h5')"
   ]
  },
  {
   "cell_type": "code",
   "execution_count": 9,
   "metadata": {},
   "outputs": [
    {
     "name": "stdout",
     "output_type": "stream",
     "text": [
      "313/313 [==============================] - 6s 10ms/step - loss: 0.0993 - accuracy: 0.9744 2s - los\n",
      "\n",
      "Test accuracy: 0.974399983882904\n"
     ]
    }
   ],
   "source": [
    "# Evaluation des performances du modèle\n",
    "test_loss, test_acc = model.evaluate(x=x_test, y=y_test)\n",
    "# on imprime la performance du modèle\n",
    "print('\\nTest accuracy:', test_acc)"
   ]
  },
  {
   "cell_type": "markdown",
   "metadata": {},
   "source": [
    "**prédictions du modèle sur le jeu de données de test.**"
   ]
  },
  {
   "cell_type": "code",
   "execution_count": 10,
   "metadata": {},
   "outputs": [
    {
     "name": "stdout",
     "output_type": "stream",
     "text": [
      "WARNING:tensorflow:Layers in a Sequential model should only have a single input tensor, but we receive a <class 'tuple'> input: (<tf.Tensor 'IteratorGetNext:0' shape=(None, 28, 28) dtype=float32>,)\n",
      "Consider rewriting this model with the Functional API.\n"
     ]
    }
   ],
   "source": [
    "predictions = model.predict([x_test]) "
   ]
  },
  {
   "cell_type": "markdown",
   "metadata": {},
   "source": [
    "on fait une prédiction pour des nombres ou des images que le modèle n'a jamais vu auparavant.\n",
    "Par exemple, nous essayons de prédire le nombre qui correspond au numéro d'image 1000 dans l'ensemble de données \n",
    "de test:"
   ]
  },
  {
   "cell_type": "code",
   "execution_count": 11,
   "metadata": {},
   "outputs": [
    {
     "name": "stdout",
     "output_type": "stream",
     "text": [
      "9\n"
     ]
    }
   ],
   "source": [
    "print(np.argmax(predictions[1000])) "
   ]
  },
  {
   "cell_type": "markdown",
   "metadata": {},
   "source": [
    "La prédiction ici est le numéro neuf, mais pour s'assurer que cette prédiction est vraie on doit tracer le numéro \n",
    "d'image 1000 dans l'ensemble de données de test à l'aide de matplotlib:\n",
    "\n"
   ]
  },
  {
   "cell_type": "code",
   "execution_count": 12,
   "metadata": {},
   "outputs": [
    {
     "data": {
      "image/png": "[encoded data removed]",
      "text/plain": [
       "<Figure size 432x288 with 1 Axes>"
      ]
     },
     "metadata": {
      "needs_background": "light"
     },
     "output_type": "display_data"
    }
   ],
   "source": [
    "plt.imshow(x_test[1000], cmap=\"gray\") # Import the image\n",
    "plt.show() # Show the image"
   ]
  },
  {
   "cell_type": "markdown",
   "metadata": {},
   "source": [
    "## Interface graphique"
   ]
  },
  {
   "cell_type": "code",
   "execution_count": 5,
   "metadata": {},
   "outputs": [
    {
     "data": {
      "image/png": "[encoded data removed]",
      "text/plain": [
       "<Figure size 432x288 with 1 Axes>"
      ]
     },
     "metadata": {
      "needs_background": "light"
     },
     "output_type": "display_data"
    }
   ],
   "source": [
    "from keras.models import load_model\n",
    "from tkinter import *\n",
    "import tkinter as tk\n",
    "import win32gui\n",
    "from PIL import ImageGrab, Image\n",
    "import numpy as np\n",
    "\n",
    "model = load_model('mnist.h5')\n",
    "\n",
    "\n",
    "\n",
    "def predict_digit(img):\n",
    "    #resize image to 28x28 pixels\n",
    "    img = img.resize((28,28))\n",
    "    #convert rgb to grayscale\n",
    "    img = img.convert('L')\n",
    "    img = np.array(img)\n",
    "    #reshaping to support our model input and normalizing\n",
    "    img = img.reshape(1,28,28,1)\n",
    "    img = img/255.0\n",
    "    #predicting the class\n",
    "    res = model.predict([img])[0]\n",
    "    return np.argmax(res), max(res)\n",
    "\n",
    "class App(tk.Tk):\n",
    "    def __init__(self):\n",
    "        tk.Tk.__init__(self)\n",
    "\n",
    "        self.x = self.y = 0\n",
    "\n",
    "        # Creating elements\n",
    "        self.canvas = tk.Canvas(self, width=300, height=300, bg = \"black\", cursor=\"cross\")\n",
    "        self.label = tk.Label(self, text=\"Thinking..\", font=(\"Helvetica\", 48))\n",
    "        self.classify_btn = tk.Button(self, text = \"Recognise\", command = self.classify_handwriting) \n",
    "        self.button_clear = tk.Button(self, text = \"Clear\", command = self.clear_all)\n",
    "\n",
    "        # Grid structure\n",
    "        self.canvas.grid(row=0, column=0, pady=2, sticky=W, )\n",
    "        self.label.grid(row=0, column=1,pady=2, padx=2)\n",
    "        self.classify_btn.grid(row=1, column=1, pady=2, padx=2)\n",
    "        self.button_clear.grid(row=1, column=0, pady=2)\n",
    "\n",
    "        #self.canvas.bind(\"<Motion>\", self.start_pos)\n",
    "        self.canvas.bind(\"<B1-Motion>\", self.draw_lines)\n",
    "\n",
    "    def clear_all(self):\n",
    "        self.canvas.delete(\"all\")\n",
    "\n",
    "    def classify_handwriting(self):\n",
    "        HWND = self.canvas.winfo_id() # get the handle of the canvas\n",
    "        rect = win32gui.GetWindowRect(HWND) # get the coordinate of the canvas\n",
    "        im = ImageGrab.grab(rect)\n",
    "        \n",
    "        plt.imshow(im, cmap=\"gray\") # Importation de l'image\n",
    "        plt.show() # visualisation de la première image\n",
    "\n",
    "        digit, acc = predict_digit(im)\n",
    "        self.label.configure(text= str(digit)+', '+ str(int(acc*100))+'%')\n",
    "\n",
    "    def draw_lines(self, event):\n",
    "        self.x = event.x\n",
    "        self.y = event.y\n",
    "        r=12\n",
    "        self.canvas.create_oval(self.x-r, self.y-r, self.x + r, self.y + r, fill='white', outline='white')\n",
    "\n",
    "app = App()\n",
    "mainloop()"
   ]
  },
  {
   "cell_type": "code",
   "execution_count": null,
   "metadata": {},
   "outputs": [],
   "source": []
  }
 ],
 "metadata": {
  "kernelspec": {
   "display_name": "Python 3",
   "language": "python",
   "name": "python3"
  },
  "language_info": {
   "codemirror_mode": {
    "name": "ipython",
    "version": 3
   },
   "file_extension": ".py",
   "mimetype": "text/x-python",
   "name": "python",
   "nbconvert_exporter": "python",
   "pygments_lexer": "ipython3",
   "version": "3.8.3"
  }
 },
 "nbformat": 4,
 "nbformat_minor": 4
}
